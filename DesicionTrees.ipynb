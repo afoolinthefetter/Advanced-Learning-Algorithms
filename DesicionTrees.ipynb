{
  "nbformat": 4,
  "nbformat_minor": 0,
  "metadata": {
    "colab": {
      "provenance": []
    },
    "kernelspec": {
      "name": "python3",
      "display_name": "Python 3"
    },
    "language_info": {
      "name": "python"
    }
  },
  "cells": [
    {
      "cell_type": "code",
      "source": [
        "import numpy as np"
      ],
      "metadata": {
        "id": "0bh8KyBSa39a"
      },
      "execution_count": 1,
      "outputs": []
    },
    {
      "cell_type": "code",
      "execution_count": 2,
      "metadata": {
        "id": "6onvIpH6kcju"
      },
      "outputs": [],
      "source": [
        "xTrain = np.array([[1,1,1],[1,0,1],[1,0,0],[1,0,0],[1,1,1],[0,1,1],[0,0,0],[1,0,1],[0,1,0],[1,0,0]])\n",
        "yTrain = np.array([1,1,0,0,1,0,0,1,1,0])"
      ]
    },
    {
      "cell_type": "code",
      "source": [
        "def Entropy(y):\n",
        "  entropy = 0\n",
        "  if len(y != 0):\n",
        "    p1 = p1 =  len(y[y==1])/len(y)\n",
        "    if p1 != 0 or p1 != 1:\n",
        "      entropy = -p1 * np.log2(p1) - (1 - p1) * np.log2(1 - p1)\n",
        "  return entropy\n"
      ],
      "metadata": {
        "id": "egRuYCiEk9yV"
      },
      "execution_count": 3,
      "outputs": []
    },
    {
      "cell_type": "code",
      "source": [
        "Entropy(yTrain)"
      ],
      "metadata": {
        "colab": {
          "base_uri": "https://localhost:8080/"
        },
        "id": "74onf92ZcsUg",
        "outputId": "389c9a68-f682-43d5-ede6-359a298ce064"
      },
      "execution_count": 4,
      "outputs": [
        {
          "output_type": "execute_result",
          "data": {
            "text/plain": [
              "1.0"
            ]
          },
          "metadata": {},
          "execution_count": 4
        }
      ]
    },
    {
      "cell_type": "code",
      "source": [
        "def NodeSplit(x, samplingIndices, feature):\n",
        " leftSplit = []\n",
        " rightSplit = []\n",
        " for i in samplingIndices:\n",
        "   if ( x[i][feature] == 1):\n",
        "     leftSplit.append(i)\n",
        "   else:\n",
        "     rightSplit.append(i)\n",
        " return leftSplit, rightSplit\n"
      ],
      "metadata": {
        "id": "0PhEs59pcuV6"
      },
      "execution_count": 5,
      "outputs": []
    },
    {
      "cell_type": "code",
      "source": [
        "sampleIndices = [0,1,2,3,4,5,6,7,8,9]\n",
        "feature = 0\n",
        "\n",
        "leftSplit, rightSplit = NodeSplit(xTrain, sampleIndices, feature)\n",
        "\n",
        "print(leftSplit)\n",
        "print(rightSplit)\n",
        "\n",
        "leftEntropy = Entropy(xTrain[leftSplit])\n"
      ],
      "metadata": {
        "colab": {
          "base_uri": "https://localhost:8080/"
        },
        "id": "zdeybOsxgZd1",
        "outputId": "0b33f7df-8cfe-4838-99ba-0b9ad73737b7"
      },
      "execution_count": 6,
      "outputs": [
        {
          "output_type": "stream",
          "name": "stdout",
          "text": [
            "[0, 1, 2, 3, 4, 7, 9]\n",
            "[5, 6, 8]\n"
          ]
        },
        {
          "output_type": "stream",
          "name": "stderr",
          "text": [
            "/usr/local/lib/python3.7/dist-packages/ipykernel_launcher.py:6: RuntimeWarning: invalid value encountered in log2\n",
            "  \n"
          ]
        }
      ]
    },
    {
      "cell_type": "code",
      "source": [
        "def InformationGain(x, y, sampleIndices, feature):\n",
        "  leftSplit, rightSplit = NodeSplit(x, sampleIndices, feature)\n",
        "\n",
        "  leftEntropy = Entropy(y[leftSplit])\n",
        "  rightEntropy = Entropy(y[rightSplit])\n",
        "\n",
        "  weightedEntropy = (len(leftSplit) * leftEntropy + len(rightSplit) * rightEntropy) / len(x)\n",
        "  nodeEntropy = Entropy(y)\n",
        "\n",
        "  return nodeEntropy - weightedEntropy\n"
      ],
      "metadata": {
        "id": "xMSrIBQug3BR"
      },
      "execution_count": 7,
      "outputs": []
    },
    {
      "cell_type": "code",
      "source": [
        "InformationGain(xTrain, yTrain, sampleIndices, feature)"
      ],
      "metadata": {
        "colab": {
          "base_uri": "https://localhost:8080/"
        },
        "id": "ae-5NcE2h9A1",
        "outputId": "29999b7a-9991-4453-a5a7-d26807d514a5"
      },
      "execution_count": 8,
      "outputs": [
        {
          "output_type": "execute_result",
          "data": {
            "text/plain": [
              "0.034851554559677034"
            ]
          },
          "metadata": {},
          "execution_count": 8
        }
      ]
    },
    {
      "cell_type": "code",
      "source": [
        "def BestSplitFeature(x,y,sampleIndices):\n",
        "  features = range(len(x[1]))\n",
        "  bestFeature = 0\n",
        "  maxInformationGain = -1\n",
        "  for i in features:\n",
        "    informationGain = InformationGain(x,y,sampleIndices, i)\n",
        "    # print(informationGain)\n",
        "    if informationGain > maxInformationGain:\n",
        "      maxInformationGain = informationGain\n",
        "      bestFeature = i\n",
        "  return bestFeature"
      ],
      "metadata": {
        "id": "MJr30rfpj-TZ"
      },
      "execution_count": 9,
      "outputs": []
    },
    {
      "cell_type": "code",
      "source": [
        "BestSplitFeature(xTrain,yTrain,sampleIndices)"
      ],
      "metadata": {
        "colab": {
          "base_uri": "https://localhost:8080/"
        },
        "id": "g7oS8ByTtOKS",
        "outputId": "5c701d80-612d-4506-9cf2-62a2796d6229"
      },
      "execution_count": 10,
      "outputs": [
        {
          "output_type": "execute_result",
          "data": {
            "text/plain": [
              "2"
            ]
          },
          "metadata": {},
          "execution_count": 10
        }
      ]
    },
    {
      "cell_type": "code",
      "source": [],
      "metadata": {
        "id": "3ne0-UI17Xly"
      },
      "execution_count": null,
      "outputs": []
    }
  ]
}