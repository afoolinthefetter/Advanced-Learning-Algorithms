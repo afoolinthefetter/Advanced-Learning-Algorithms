{
  "nbformat": 4,
  "nbformat_minor": 0,
  "metadata": {
    "colab": {
      "provenance": []
    },
    "kernelspec": {
      "name": "python3",
      "display_name": "Python 3"
    },
    "language_info": {
      "name": "python"
    }
  },
  "cells": [
    {
      "cell_type": "code",
      "source": [
        "import numpy as np"
      ],
      "metadata": {
        "id": "URiqZKhBNL8N"
      },
      "execution_count": 1,
      "outputs": []
    },
    {
      "cell_type": "code",
      "execution_count": 2,
      "metadata": {
        "id": "7DQ3ovBaMWJp"
      },
      "outputs": [],
      "source": [
        "x = np.load('/content/X.npy')\n",
        "y = np.load('/content/y.npy')"
      ]
    },
    {
      "cell_type": "code",
      "source": [
        "import tensorflow as tf\n",
        "from tensorflow.keras.models import Sequential\n",
        "from tensorflow.keras.layers import Dense\n",
        "from tensorflow.keras.activations import linear,relu,sigmoid"
      ],
      "metadata": {
        "id": "lnrgFzoQNKBl"
      },
      "execution_count": 3,
      "outputs": []
    },
    {
      "cell_type": "code",
      "source": [
        "tf.random.set_seed(123)"
      ],
      "metadata": {
        "id": "eSLCiaZkNK0y"
      },
      "execution_count": 4,
      "outputs": []
    },
    {
      "cell_type": "code",
      "source": [
        "model = Sequential([\n",
        "    tf.keras.Input(shape=(400,)),\n",
        "    Dense(units=25, activation='relu'),\n",
        "    Dense(units=15,activation='relu'),\n",
        "    Dense(units=10,activation='linear')\n",
        "], name='9digitclassifier'\n",
        ")\n",
        "\n",
        "model.compile(\n",
        "  loss = tf.keras.losses.SparseCategoricalCrossentropy(from_logits=True),\n",
        "  optimizer = tf.keras.optimizers.Adam(0.001)  \n",
        ")"
      ],
      "metadata": {
        "id": "ZMzy8J2DNYGR"
      },
      "execution_count": 5,
      "outputs": []
    },
    {
      "cell_type": "code",
      "source": [
        "model.summary()"
      ],
      "metadata": {
        "colab": {
          "base_uri": "https://localhost:8080/"
        },
        "id": "eyT4wQ_hWP5S",
        "outputId": "8311ea53-34ec-4bea-b4da-cd7c54ae4732"
      },
      "execution_count": 8,
      "outputs": [
        {
          "output_type": "stream",
          "name": "stdout",
          "text": [
            "Model: \"9digitclassifier\"\n",
            "_________________________________________________________________\n",
            " Layer (type)                Output Shape              Param #   \n",
            "=================================================================\n",
            " dense (Dense)               (None, 25)                10025     \n",
            "                                                                 \n",
            " dense_1 (Dense)             (None, 15)                390       \n",
            "                                                                 \n",
            " dense_2 (Dense)             (None, 10)                160       \n",
            "                                                                 \n",
            "=================================================================\n",
            "Total params: 10,575\n",
            "Trainable params: 10,575\n",
            "Non-trainable params: 0\n",
            "_________________________________________________________________\n"
          ]
        }
      ]
    },
    {
      "cell_type": "code",
      "source": [
        "predictor = model.fit(x,y, epochs=40)"
      ],
      "metadata": {
        "colab": {
          "base_uri": "https://localhost:8080/"
        },
        "id": "-Sr-zp8kQuuA",
        "outputId": "6ea02295-03bf-4700-9b5c-94eb3181ee50"
      },
      "execution_count": 6,
      "outputs": [
        {
          "output_type": "stream",
          "name": "stdout",
          "text": [
            "Epoch 1/40\n",
            "157/157 [==============================] - 1s 1ms/step - loss: 1.4220\n",
            "Epoch 2/40\n",
            "157/157 [==============================] - 0s 1ms/step - loss: 0.5922\n",
            "Epoch 3/40\n",
            "157/157 [==============================] - 0s 1ms/step - loss: 0.4127\n",
            "Epoch 4/40\n",
            "157/157 [==============================] - 0s 2ms/step - loss: 0.3493\n",
            "Epoch 5/40\n",
            "157/157 [==============================] - 0s 1ms/step - loss: 0.3080\n",
            "Epoch 6/40\n",
            "157/157 [==============================] - 0s 1ms/step - loss: 0.2782\n",
            "Epoch 7/40\n",
            "157/157 [==============================] - 0s 1ms/step - loss: 0.2562\n",
            "Epoch 8/40\n",
            "157/157 [==============================] - 0s 1ms/step - loss: 0.2352\n",
            "Epoch 9/40\n",
            "157/157 [==============================] - 0s 1ms/step - loss: 0.2233\n",
            "Epoch 10/40\n",
            "157/157 [==============================] - 0s 1ms/step - loss: 0.2077\n",
            "Epoch 11/40\n",
            "157/157 [==============================] - 0s 1ms/step - loss: 0.1940\n",
            "Epoch 12/40\n",
            "157/157 [==============================] - 0s 1ms/step - loss: 0.1863\n",
            "Epoch 13/40\n",
            "157/157 [==============================] - 0s 1ms/step - loss: 0.1748\n",
            "Epoch 14/40\n",
            "157/157 [==============================] - 0s 1ms/step - loss: 0.1655\n",
            "Epoch 15/40\n",
            "157/157 [==============================] - 0s 1ms/step - loss: 0.1592\n",
            "Epoch 16/40\n",
            "157/157 [==============================] - 0s 1ms/step - loss: 0.1529\n",
            "Epoch 17/40\n",
            "157/157 [==============================] - 0s 3ms/step - loss: 0.1444\n",
            "Epoch 18/40\n",
            "157/157 [==============================] - 0s 2ms/step - loss: 0.1380\n",
            "Epoch 19/40\n",
            "157/157 [==============================] - 0s 2ms/step - loss: 0.1286\n",
            "Epoch 20/40\n",
            "157/157 [==============================] - 0s 3ms/step - loss: 0.1269\n",
            "Epoch 21/40\n",
            "157/157 [==============================] - 0s 3ms/step - loss: 0.1196\n",
            "Epoch 22/40\n",
            "157/157 [==============================] - 0s 2ms/step - loss: 0.1133\n",
            "Epoch 23/40\n",
            "157/157 [==============================] - 0s 3ms/step - loss: 0.1099\n",
            "Epoch 24/40\n",
            "157/157 [==============================] - 0s 3ms/step - loss: 0.1046\n",
            "Epoch 25/40\n",
            "157/157 [==============================] - 0s 2ms/step - loss: 0.1010\n",
            "Epoch 26/40\n",
            "157/157 [==============================] - 0s 2ms/step - loss: 0.0947\n",
            "Epoch 27/40\n",
            "157/157 [==============================] - 0s 2ms/step - loss: 0.0887\n",
            "Epoch 28/40\n",
            "157/157 [==============================] - 1s 3ms/step - loss: 0.0890\n",
            "Epoch 29/40\n",
            "157/157 [==============================] - 1s 3ms/step - loss: 0.0840\n",
            "Epoch 30/40\n",
            "157/157 [==============================] - 0s 3ms/step - loss: 0.0780\n",
            "Epoch 31/40\n",
            "157/157 [==============================] - 1s 4ms/step - loss: 0.0729\n",
            "Epoch 32/40\n",
            "157/157 [==============================] - 1s 4ms/step - loss: 0.0701\n",
            "Epoch 33/40\n",
            "157/157 [==============================] - 1s 4ms/step - loss: 0.0671\n",
            "Epoch 34/40\n",
            "157/157 [==============================] - 1s 4ms/step - loss: 0.0641\n",
            "Epoch 35/40\n",
            "157/157 [==============================] - 0s 3ms/step - loss: 0.0634\n",
            "Epoch 36/40\n",
            "157/157 [==============================] - 0s 3ms/step - loss: 0.0592\n",
            "Epoch 37/40\n",
            "157/157 [==============================] - 0s 2ms/step - loss: 0.0551\n",
            "Epoch 38/40\n",
            "157/157 [==============================] - 0s 2ms/step - loss: 0.0534\n",
            "Epoch 39/40\n",
            "157/157 [==============================] - 0s 2ms/step - loss: 0.0471\n",
            "Epoch 40/40\n",
            "157/157 [==============================] - 0s 2ms/step - loss: 0.0455\n"
          ]
        }
      ]
    },
    {
      "cell_type": "code",
      "source": [
        "tf.nn.softmax(model.predict(x[3].reshape(1,400)))"
      ],
      "metadata": {
        "colab": {
          "base_uri": "https://localhost:8080/"
        },
        "id": "WMeT3nfsQ2eU",
        "outputId": "b475574b-1183-408e-c137-bf92d228fdff"
      },
      "execution_count": 7,
      "outputs": [
        {
          "output_type": "stream",
          "name": "stdout",
          "text": [
            "1/1 [==============================] - 0s 62ms/step\n"
          ]
        },
        {
          "output_type": "execute_result",
          "data": {
            "text/plain": [
              "<tf.Tensor: shape=(1, 10), dtype=float32, numpy=\n",
              "array([[9.9977988e-01, 5.0868921e-17, 2.1785674e-04, 2.0025318e-06,\n",
              "        1.1456156e-14, 1.1655669e-10, 1.9210960e-08, 1.7292724e-10,\n",
              "        1.5021165e-07, 1.0947187e-07]], dtype=float32)>"
            ]
          },
          "metadata": {},
          "execution_count": 7
        }
      ]
    },
    {
      "cell_type": "code",
      "source": [],
      "metadata": {
        "id": "GCNqYSveSbLu"
      },
      "execution_count": 7,
      "outputs": []
    },
    {
      "cell_type": "code",
      "source": [],
      "metadata": {
        "id": "UlnA2xCMSgOj"
      },
      "execution_count": 7,
      "outputs": []
    }
  ]
}