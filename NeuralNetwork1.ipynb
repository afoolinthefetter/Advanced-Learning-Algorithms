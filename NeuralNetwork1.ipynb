{
  "cells": [
    {
      "cell_type": "code",
      "execution_count": 8,
      "metadata": {
        "id": "eRLGGqzF2-pd"
      },
      "outputs": [],
      "source": [
        "import numpy as np\n",
        "import tensorflow as tf\n",
        "from tensorflow.keras.models import Sequential\n",
        "from tensorflow.keras.layers import Dense\n",
        "import matplotlib.pyplot as plt"
      ]
    },
    {
      "cell_type": "code",
      "execution_count": 9,
      "metadata": {
        "id": "YMtiVX4T8q9l"
      },
      "outputs": [],
      "source": [
        "x = np.load('/content/data/X.npy')\n",
        "y = np.load('/content/data/y.npy')"
      ]
    },
    {
      "cell_type": "markdown",
      "metadata": {
        "id": "LoJrhMNWA1UI"
      },
      "source": [
        "#Sequential dense layers implementation in tensorflow directly"
      ]
    },
    {
      "cell_type": "code",
      "execution_count": 10,
      "metadata": {
        "id": "zYRH1uke3bUS"
      },
      "outputs": [],
      "source": [
        "model = Sequential(                      \n",
        "    [                                   \n",
        "        tf.keras.Input(shape=(400,)), \n",
        "        Dense(25, activation='sigmoid'), \n",
        "        Dense(15, activation='sigmoid'), \n",
        "        Dense(1,  activation='sigmoid')  \n",
        "    ], name = \"modelname\"                                    \n",
        ")"
      ]
    },
    {
      "cell_type": "code",
      "execution_count": 11,
      "metadata": {
        "colab": {
          "base_uri": "https://localhost:8080/"
        },
        "id": "q4-3wBLf4SRY",
        "outputId": "9f5ca69a-2120-4f0e-fb8c-1d719e52dd19"
      },
      "outputs": [
        {
          "name": "stdout",
          "output_type": "stream",
          "text": [
            "Epoch 1/20\n",
            "157/157 [==============================] - 1s 2ms/step - loss: -7.9560\n",
            "Epoch 2/20\n",
            "157/157 [==============================] - 0s 2ms/step - loss: -16.6482\n",
            "Epoch 3/20\n",
            "157/157 [==============================] - 0s 2ms/step - loss: -22.3070\n",
            "Epoch 4/20\n",
            "157/157 [==============================] - 0s 2ms/step - loss: -27.5543\n",
            "Epoch 5/20\n",
            "157/157 [==============================] - 0s 2ms/step - loss: -32.6611\n",
            "Epoch 6/20\n",
            "157/157 [==============================] - 0s 2ms/step - loss: -37.6944\n",
            "Epoch 7/20\n",
            "157/157 [==============================] - 0s 2ms/step - loss: -42.6889\n",
            "Epoch 8/20\n",
            "157/157 [==============================] - 0s 2ms/step - loss: -47.6700\n",
            "Epoch 9/20\n",
            "157/157 [==============================] - 0s 2ms/step - loss: -52.6325\n",
            "Epoch 10/20\n",
            "157/157 [==============================] - 0s 2ms/step - loss: -57.5670\n",
            "Epoch 11/20\n",
            "157/157 [==============================] - 0s 2ms/step - loss: -63.0854\n",
            "Epoch 12/20\n",
            "157/157 [==============================] - 0s 2ms/step - loss: -70.0988\n",
            "Epoch 13/20\n",
            "157/157 [==============================] - 0s 2ms/step - loss: -76.1883\n",
            "Epoch 14/20\n",
            "157/157 [==============================] - 0s 2ms/step - loss: -82.0189\n",
            "Epoch 15/20\n",
            "157/157 [==============================] - 0s 2ms/step - loss: -87.7451\n",
            "Epoch 16/20\n",
            "157/157 [==============================] - 0s 2ms/step - loss: -93.3812\n",
            "Epoch 17/20\n",
            "157/157 [==============================] - 0s 2ms/step - loss: -98.9793\n",
            "Epoch 18/20\n",
            "157/157 [==============================] - 0s 2ms/step - loss: -104.5430\n",
            "Epoch 19/20\n",
            "157/157 [==============================] - 0s 2ms/step - loss: -110.0981\n",
            "Epoch 20/20\n",
            "157/157 [==============================] - 0s 2ms/step - loss: -115.6328\n"
          ]
        },
        {
          "data": {
            "text/plain": [
              "<keras.callbacks.History at 0x7f3f70e5d6d0>"
            ]
          },
          "execution_count": 11,
          "metadata": {},
          "output_type": "execute_result"
        }
      ],
      "source": [
        "model.compile(\n",
        "    loss=tf.keras.losses.BinaryCrossentropy(),\n",
        "    optimizer=tf.keras.optimizers.Adam(0.001),\n",
        ")\n",
        "\n",
        "model.fit(\n",
        "    x,y,\n",
        "    epochs=20\n",
        ")"
      ]
    },
    {
      "cell_type": "code",
      "execution_count": 13,
      "metadata": {
        "colab": {
          "base_uri": "https://localhost:8080/"
        },
        "id": "-8CHaaHn9cTW",
        "outputId": "535b28e8-63df-4292-b370-8eab2620569d"
      },
      "outputs": [
        {
          "name": "stdout",
          "output_type": "stream",
          "text": [
            "Model: \"my_model\"\n",
            "_________________________________________________________________\n",
            " Layer (type)                Output Shape              Param #   \n",
            "=================================================================\n",
            " dense_3 (Dense)             (None, 25)                10025     \n",
            "                                                                 \n",
            " dense_4 (Dense)             (None, 15)                390       \n",
            "                                                                 \n",
            " dense_5 (Dense)             (None, 1)                 16        \n",
            "                                                                 \n",
            "=================================================================\n",
            "Total params: 10,431\n",
            "Trainable params: 10,431\n",
            "Non-trainable params: 0\n",
            "_________________________________________________________________\n"
          ]
        }
      ],
      "source": [
        "model.summary()"
      ]
    },
    {
      "cell_type": "code",
      "execution_count": 52,
      "metadata": {
        "id": "qvJhrTyRCWkQ"
      },
      "outputs": [],
      "source": [
        "[layer1, layer2, layer3] = model.layers"
      ]
    },
    {
      "cell_type": "code",
      "execution_count": 55,
      "metadata": {
        "colab": {
          "base_uri": "https://localhost:8080/"
        },
        "id": "vZgoxNjSCdyL",
        "outputId": "f7941b07-78fd-44b0-8ed8-f83794ec3b25"
      },
      "outputs": [
        {
          "data": {
            "text/plain": [
              "[array([[-0.02307746,  0.09349397, -0.02975717, ...,  0.05268727,\n",
              "          0.0357565 , -0.09891094],\n",
              "        [ 0.02682284, -0.09862656, -0.09163042, ...,  0.06456226,\n",
              "          0.0024261 , -0.02592848],\n",
              "        [ 0.00890265, -0.08471087, -0.02355483, ...,  0.02012274,\n",
              "          0.11871052, -0.07019313],\n",
              "        ...,\n",
              "        [ 0.0241057 ,  0.03376791, -0.02196025, ..., -0.02235419,\n",
              "          0.05822559,  0.05391603],\n",
              "        [-0.01662107, -0.08254587,  0.04368133, ...,  0.03231416,\n",
              "         -0.10030812, -0.02279266],\n",
              "        [ 0.05956219, -0.09739895,  0.07974939, ...,  0.10059433,\n",
              "          0.04115041, -0.10999062]], dtype=float32),\n",
              " array([ 0.14032532,  0.15417641,  0.13427396,  0.18726967,  0.1937438 ,\n",
              "         0.11001679,  0.15323888,  0.18303466,  0.12595916, -0.06708688,\n",
              "         0.14508663,  0.18649544,  0.13127835,  0.18588774,  0.15503158,\n",
              "         0.13918824,  0.15421858,  0.17957056,  0.1571267 ,  0.16963334,\n",
              "         0.14002457,  0.1487611 ,  0.18454918,  0.16318163,  0.17156385],\n",
              "       dtype=float32)]"
            ]
          },
          "execution_count": 55,
          "metadata": {},
          "output_type": "execute_result"
        }
      ],
      "source": [
        "layer1.get_weights()"
      ]
    },
    {
      "cell_type": "markdown",
      "metadata": {
        "id": "4cFq_5MdAsnP"
      },
      "source": [
        "#Individual Dense Layer operation"
      ]
    },
    {
      "cell_type": "code",
      "execution_count": 58,
      "metadata": {
        "id": "FzWlB-ebMuhe"
      },
      "outputs": [],
      "source": [
        "def IndividualDense(a_in, W, b, g):\n",
        "\n",
        "    iterations = W.shape[1]\n",
        "    a_out = np.zeros(iterations)\n",
        "\n",
        "    for each in range(iterations):\n",
        "      w = W[:,each]\n",
        "      z = np.dot(w,a_in) + b[each]\n",
        "      a_out[each] = g(z)\n",
        "    \n",
        "    return a_out"
      ]
    },
    {
      "cell_type": "code",
      "execution_count": 35,
      "metadata": {
        "id": "V5bsedne9CrS"
      },
      "outputs": [],
      "source": [
        "def sigmoid(z):\n",
        "  return 1/(1+np.exp(-z))"
      ]
    },
    {
      "cell_type": "code",
      "execution_count": 67,
      "metadata": {
        "colab": {
          "base_uri": "https://localhost:8080/"
        },
        "id": "5j2HWGn784OQ",
        "outputId": "fb88c7a0-e9bd-43ef-ecae-6abe4063aed7"
      },
      "outputs": [
        {
          "name": "stdout",
          "output_type": "stream",
          "text": [
            "[0.9999546  0.99999917 0.99999998]\n"
          ]
        }
      ],
      "source": [
        "xTest = np.arange(1,3,1).reshape(2,)\n",
        "WTest = np.arange(1,7,1).reshape(2,3)\n",
        "bTest = np.arange(1,4,1).reshape(3,)\n",
        "aTest = IndividualDense(xTest, WTest, bTest, sigmoid)\n",
        "print(aTest)"
      ]
    },
    {
      "cell_type": "code",
      "execution_count": 47,
      "metadata": {
        "colab": {
          "base_uri": "https://localhost:8080/"
        },
        "id": "HBue5Pqj8_4H",
        "outputId": "46fda8a2-f446-438a-9ff6-2f5c0fa90778"
      },
      "outputs": [
        {
          "data": {
            "text/plain": [
              "array([[0.1, 0.2, 0.3],\n",
              "       [0.4, 0.5, 0.6]])"
            ]
          },
          "execution_count": 47,
          "metadata": {},
          "output_type": "execute_result"
        }
      ],
      "source": []
    },
    {
      "cell_type": "code",
      "execution_count": 59,
      "metadata": {
        "id": "PT1ABdBq_2nE"
      },
      "outputs": [],
      "source": [
        "def CustomSequential(X,w1,b1,w2,b2,w3,b3):\n",
        "  a1 = IndividualDense(X,w1,b1,sigmoid)\n",
        "  a2 = IndividualDense(a1,w2,b2,sigmoid)\n",
        "  a3 = IndividualDense(a2,w3,b3,sigmoid)\n",
        "  return a3"
      ]
    },
    {
      "cell_type": "markdown",
      "metadata": {
        "id": "XQjv6fvOCzfz"
      },
      "source": [
        "Using weights from pretrained models for making custom sequential"
      ]
    },
    {
      "cell_type": "code",
      "execution_count": 60,
      "metadata": {
        "id": "5T_bKYQnCR1W"
      },
      "outputs": [],
      "source": [
        "w1,b1 = layer1.get_weights()\n",
        "w2,b2 = layer2.get_weights()\n",
        "w3,b3 = layer3.get_weights()"
      ]
    },
    {
      "cell_type": "code",
      "execution_count": 65,
      "metadata": {
        "colab": {
          "base_uri": "https://localhost:8080/"
        },
        "id": "uzOrKXKdDzxU",
        "outputId": "cdee9bd9-7d07-4f5d-bf1e-f6d9e5d5b92d"
      },
      "outputs": [
        {
          "data": {
            "text/plain": [
              "(400, 25)"
            ]
          },
          "execution_count": 65,
          "metadata": {},
          "output_type": "execute_result"
        }
      ],
      "source": [
        "w1.shape"
      ]
    },
    {
      "cell_type": "code",
      "execution_count": 66,
      "metadata": {
        "colab": {
          "base_uri": "https://localhost:8080/"
        },
        "id": "cRRjEkrlDDXj",
        "outputId": "16b37abd-69aa-4c13-a39f-da52afc0c86c"
      },
      "outputs": [
        {
          "data": {
            "text/plain": [
              "array([1.])"
            ]
          },
          "execution_count": 66,
          "metadata": {},
          "output_type": "execute_result"
        }
      ],
      "source": [
        "CustomSequential(x[0],w1,b1,w2,b2,w3,b3)"
      ]
    },
    {
      "cell_type": "code",
      "execution_count": null,
      "metadata": {
        "id": "viIrPf4sDLEd"
      },
      "outputs": [],
      "source": []
    }
  ],
  "metadata": {
    "colab": {
      "provenance": []
    },
    "kernelspec": {
      "display_name": "Python 3",
      "name": "python3"
    },
    "language_info": {
      "name": "python"
    }
  },
  "nbformat": 4,
  "nbformat_minor": 0
}
