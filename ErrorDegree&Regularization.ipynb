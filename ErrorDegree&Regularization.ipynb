{
  "cells": [
    {
      "cell_type": "code",
      "execution_count": 12,
      "metadata": {
        "id": "wE7RfSKS-UWU"
      },
      "outputs": [],
      "source": [
        "import pandas as pd\n",
        "import numpy as np\n",
        "from sklearn.linear_model import LinearRegression, Ridge\n",
        "from sklearn.metrics import mean_squared_error\n",
        "from sklearn.model_selection import train_test_split\n",
        "import matplotlib.pyplot as plt"
      ]
    },
    {
      "cell_type": "code",
      "execution_count": 13,
      "metadata": {
        "id": "FiaBzusfAoFV"
      },
      "outputs": [],
      "source": [
        "path = '/content/data.csv'\n",
        "df =pd.read_csv(path, header=None)\n",
        "X = df[0]\n",
        "Y = df[1]"
      ]
    },
    {
      "cell_type": "code",
      "source": [
        "model = LinearRegression()\n",
        "predictor = model.fit(X.to_numpy().reshape(-1,1), Y)"
      ],
      "metadata": {
        "id": "1fZ8eIw9Hdz-"
      },
      "execution_count": 14,
      "outputs": []
    },
    {
      "cell_type": "code",
      "source": [
        "def CustomMSE(y, yhat):\n",
        "  m = len(y)\n",
        "  error = 0\n",
        "  for i in range(m):\n",
        "    error += (y[i]-yhat[i])**2\n",
        "  \n",
        "  return error/m"
      ],
      "metadata": {
        "id": "ZdXPc0OyHk8S"
      },
      "execution_count": 15,
      "outputs": []
    },
    {
      "cell_type": "code",
      "source": [
        "yhat = predictor.predict(X.to_numpy().reshape(-1,1))"
      ],
      "metadata": {
        "id": "mF2kVO9iJmXl"
      },
      "execution_count": 16,
      "outputs": []
    },
    {
      "cell_type": "code",
      "source": [
        "type(X)"
      ],
      "metadata": {
        "colab": {
          "base_uri": "https://localhost:8080/"
        },
        "id": "WXrOOEpAeUwQ",
        "outputId": "ff7961d2-6cf2-4ead-82b9-e9044e0abbbc"
      },
      "execution_count": 17,
      "outputs": [
        {
          "output_type": "execute_result",
          "data": {
            "text/plain": [
              "pandas.core.series.Series"
            ]
          },
          "metadata": {},
          "execution_count": 17
        }
      ]
    },
    {
      "cell_type": "markdown",
      "source": [
        "#Comparing custom MSE and MSE from sklearn metrics"
      ],
      "metadata": {
        "id": "OLS4LJuoK70-"
      }
    },
    {
      "cell_type": "code",
      "source": [
        "CustomMSE(Y,yhat)"
      ],
      "metadata": {
        "colab": {
          "base_uri": "https://localhost:8080/"
        },
        "id": "UJDHX53RJ5tE",
        "outputId": "4451b191-fae2-4210-a871-7a58bde52e99"
      },
      "execution_count": 18,
      "outputs": [
        {
          "output_type": "execute_result",
          "data": {
            "text/plain": [
              "110.25738346621318"
            ]
          },
          "metadata": {},
          "execution_count": 18
        }
      ]
    },
    {
      "cell_type": "code",
      "source": [
        "mean_squared_error(Y,yhat)"
      ],
      "metadata": {
        "colab": {
          "base_uri": "https://localhost:8080/"
        },
        "id": "vV-ReqHHKHok",
        "outputId": "a55cdd37-3096-4330-9ae6-1e3486f57ab3"
      },
      "execution_count": 19,
      "outputs": [
        {
          "output_type": "execute_result",
          "data": {
            "text/plain": [
              "110.25738346621316"
            ]
          },
          "metadata": {},
          "execution_count": 19
        }
      ]
    },
    {
      "cell_type": "markdown",
      "source": [
        "#Cross Validation and Test Division"
      ],
      "metadata": {
        "id": "PUfO9G0_obH6"
      }
    },
    {
      "cell_type": "code",
      "source": [
        "path = '/content/data2.csv'\n",
        "df =pd.read_csv(path, header=None)\n",
        "df = df.iloc[1:,:]\n",
        "X = df.iloc[:,0]\n",
        "Y = df.iloc[:,1]\n",
        "X = X.to_numpy().reshape(-1,1)"
      ],
      "metadata": {
        "id": "3_E0PP8Vcfa_"
      },
      "execution_count": 20,
      "outputs": []
    },
    {
      "cell_type": "code",
      "source": [
        "xTrain, x, yTrain, y = train_test_split(X,Y,test_size=0.44, random_state = 42)"
      ],
      "metadata": {
        "id": "ElDdX3ZqKMUX"
      },
      "execution_count": 21,
      "outputs": []
    },
    {
      "cell_type": "code",
      "source": [
        "xCV, xTest, yCV, yTest = train_test_split(x,y,test_size=0.5,random_state=42)"
      ],
      "metadata": {
        "id": "DNzXpLIylZY8"
      },
      "execution_count": 22,
      "outputs": []
    },
    {
      "cell_type": "code",
      "source": [
        "from sklearn.preprocessing import PolynomialFeatures"
      ],
      "metadata": {
        "id": "LtgXrB-zllHn"
      },
      "execution_count": 23,
      "outputs": []
    },
    {
      "cell_type": "code",
      "source": [
        "degrees = 20\n",
        "errorTrain = np.zeros(degrees)\n",
        "errorCV = np.zeros(degrees)\n",
        "for i in range(degrees):\n",
        "  poly = PolynomialFeatures(degree = i+1, include_bias=False)\n",
        "  polyTrain = poly.fit_transform(xTrain)\n",
        "  polyCV = poly.fit_transform(xCV)\n",
        "  polynomialModel = LinearRegression()\n",
        "  polynomialPredictor = polynomialModel.fit(polyTrain,yTrain)\n",
        "  yhat = polynomialPredictor.predict(polyTrain)\n",
        "  errorTrain[i] = mean_squared_error(yTrain,yhat)\n",
        "  yhat = polynomialPredictor.predict(polyCV)\n",
        "  errorCV[i] = mean_squared_error(yCV,yhat)\n",
        "\n",
        "plt.plot(errorTrain, color=\"blue\")\n",
        "plt.plot(errorCV, color=\"red\")\n",
        "plt.show()\n",
        "\n",
        "print(\"\\nBest performance at degree:\",np.argmin(errorCV))"
      ],
      "metadata": {
        "colab": {
          "base_uri": "https://localhost:8080/",
          "height": 299
        },
        "id": "1lc0JscBnt6n",
        "outputId": "62e6f98c-4023-4baf-bc8e-13bf0a885678"
      },
      "execution_count": 24,
      "outputs": [
        {
          "output_type": "display_data",
          "data": {
            "text/plain": [
              "<Figure size 432x288 with 1 Axes>"
            ],
            "image/png": "[encoded data removed]"
          },
          "metadata": {
            "needs_background": "light"
          }
        },
        {
          "output_type": "stream",
          "name": "stdout",
          "text": [
            "\n",
            "Best performance at degree: 3\n"
          ]
        }
      ]
    },
    {
      "cell_type": "markdown",
      "source": [
        "#Evaluating in association with Regularization"
      ],
      "metadata": {
        "id": "gK48KGLFsUkC"
      }
    },
    {
      "cell_type": "code",
      "source": [
        "degree = 3\n",
        "lambdaRange = np.array([0.0, 1e-6, 1e-5, 1e-4,1e-3,1e-2, 1e-1,1,10,100])\n",
        "errorCV = np.zeros(len(lambdaRange))\n",
        "errorTrain = errorCV\n",
        "polyTrain = PolynomialFeatures(degree=3, include_bias=False).fit_transform(xTrain)\n",
        "polyCV = PolynomialFeatures(degree=degree, include_bias=False).fit_transform(xCV)\n",
        "\n",
        "for i in range(len(lambdaRange)):\n",
        "  model = Ridge(alpha = lambdaRange[i])\n",
        "  predictor = model.fit(polyTrain,yTrain)\n",
        "  yhat = predictor.predict(polyCV)\n",
        "  errorCV[i] = mean_squared_error(yCV,yhat)\n",
        "  yhat = predictor.predict(polyTrain)\n",
        "  errorTrain[i] = mean_squared_error(yTrain,yhat)\n",
        "\n",
        "print(\"\\nBest Resluting index of Lambda=\",np.argmin(lambdaRange))"
      ],
      "metadata": {
        "colab": {
          "base_uri": "https://localhost:8080/"
        },
        "id": "5XdZJoU_spnM",
        "outputId": "d942c3b3-50bb-45fe-a6ad-414afd7f7345"
      },
      "execution_count": 25,
      "outputs": [
        {
          "output_type": "stream",
          "name": "stdout",
          "text": [
            "\n",
            "Best Resluting index of Lambda= 0\n"
          ]
        },
        {
          "output_type": "stream",
          "name": "stderr",
          "text": [
            "/usr/local/lib/python3.7/dist-packages/sklearn/linear_model/_ridge.py:157: LinAlgWarning: Ill-conditioned matrix (rcond=1.29008e-20): result may not be accurate.\n",
            "  return linalg.solve(A, Xy, sym_pos=True, overwrite_a=True).T\n",
            "/usr/local/lib/python3.7/dist-packages/sklearn/linear_model/_ridge.py:157: LinAlgWarning: Ill-conditioned matrix (rcond=1.29009e-20): result may not be accurate.\n",
            "  return linalg.solve(A, Xy, sym_pos=True, overwrite_a=True).T\n",
            "/usr/local/lib/python3.7/dist-packages/sklearn/linear_model/_ridge.py:157: LinAlgWarning: Ill-conditioned matrix (rcond=1.2901e-20): result may not be accurate.\n",
            "  return linalg.solve(A, Xy, sym_pos=True, overwrite_a=True).T\n",
            "/usr/local/lib/python3.7/dist-packages/sklearn/linear_model/_ridge.py:157: LinAlgWarning: Ill-conditioned matrix (rcond=1.29027e-20): result may not be accurate.\n",
            "  return linalg.solve(A, Xy, sym_pos=True, overwrite_a=True).T\n",
            "/usr/local/lib/python3.7/dist-packages/sklearn/linear_model/_ridge.py:157: LinAlgWarning: Ill-conditioned matrix (rcond=1.29196e-20): result may not be accurate.\n",
            "  return linalg.solve(A, Xy, sym_pos=True, overwrite_a=True).T\n",
            "/usr/local/lib/python3.7/dist-packages/sklearn/linear_model/_ridge.py:157: LinAlgWarning: Ill-conditioned matrix (rcond=1.30889e-20): result may not be accurate.\n",
            "  return linalg.solve(A, Xy, sym_pos=True, overwrite_a=True).T\n",
            "/usr/local/lib/python3.7/dist-packages/sklearn/linear_model/_ridge.py:157: LinAlgWarning: Ill-conditioned matrix (rcond=1.47812e-20): result may not be accurate.\n",
            "  return linalg.solve(A, Xy, sym_pos=True, overwrite_a=True).T\n",
            "/usr/local/lib/python3.7/dist-packages/sklearn/linear_model/_ridge.py:157: LinAlgWarning: Ill-conditioned matrix (rcond=3.17047e-20): result may not be accurate.\n",
            "  return linalg.solve(A, Xy, sym_pos=True, overwrite_a=True).T\n",
            "/usr/local/lib/python3.7/dist-packages/sklearn/linear_model/_ridge.py:157: LinAlgWarning: Ill-conditioned matrix (rcond=2.00939e-19): result may not be accurate.\n",
            "  return linalg.solve(A, Xy, sym_pos=True, overwrite_a=True).T\n",
            "/usr/local/lib/python3.7/dist-packages/sklearn/linear_model/_ridge.py:157: LinAlgWarning: Ill-conditioned matrix (rcond=1.89328e-18): result may not be accurate.\n",
            "  return linalg.solve(A, Xy, sym_pos=True, overwrite_a=True).T\n"
          ]
        }
      ]
    },
    {
      "cell_type": "code",
      "source": [],
      "metadata": {
        "id": "4fHpl4DgxLbx"
      },
      "execution_count": 25,
      "outputs": []
    },
    {
      "cell_type": "code",
      "source": [],
      "metadata": {
        "id": "ht0D5ICmxUDZ"
      },
      "execution_count": 25,
      "outputs": []
    }
  ],
  "metadata": {
    "colab": {
      "provenance": [],
      "collapsed_sections": []
    },
    "kernelspec": {
      "display_name": "Python 3",
      "name": "python3"
    },
    "language_info": {
      "name": "python"
    }
  },
  "nbformat": 4,
  "nbformat_minor": 0
}