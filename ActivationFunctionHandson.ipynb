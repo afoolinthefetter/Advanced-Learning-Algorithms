{
  "nbformat": 4,
  "nbformat_minor": 0,
  "metadata": {
    "colab": {
      "provenance": []
    },
    "kernelspec": {
      "name": "python3",
      "display_name": "Python 3"
    },
    "language_info": {
      "name": "python"
    }
  },
  "cells": [
    {
      "cell_type": "code",
      "execution_count": 1,
      "metadata": {
        "id": "kWgVitMKWDas"
      },
      "outputs": [],
      "source": [
        "import numpy as np\n",
        "import tensorflow as tf"
      ]
    },
    {
      "cell_type": "code",
      "source": [
        "aIn = np.array([1.,2.,3.,4.,5.])"
      ],
      "metadata": {
        "id": "82gtF1ZgWVr4"
      },
      "execution_count": 2,
      "outputs": []
    },
    {
      "cell_type": "markdown",
      "source": [],
      "metadata": {
        "id": "0phEgrG99Iin"
      }
    },
    {
      "cell_type": "markdown",
      "source": [
        "#Vector Implementation"
      ],
      "metadata": {
        "id": "zc63Djbq61vf"
      }
    },
    {
      "cell_type": "code",
      "source": [
        "def CustomSoftmax(a):\n",
        "  e = np.exp(a)\n",
        "  return e/np.sum(e)"
      ],
      "metadata": {
        "id": "Lqdt-_2oWbxY"
      },
      "execution_count": 3,
      "outputs": []
    },
    {
      "cell_type": "markdown",
      "source": [
        "# Non-Vector Implementation"
      ],
      "metadata": {
        "id": "xv4AZ96a7cjS"
      }
    },
    {
      "cell_type": "code",
      "source": [
        "def CustomSoftmax2(aIn):\n",
        "  counts = len(aIn)\n",
        "  ez = 0\n",
        "  aOut = np.zeros(counts)\n",
        "  for i in range(counts):\n",
        "    ez += np.exp(aIn[i])\n",
        "  for i in range(counts):\n",
        "    aOut[i] = np.exp(aIn[i])/ez\n",
        "\n",
        "  return aOut\n"
      ],
      "metadata": {
        "id": "8wm9V8aR7f6W"
      },
      "execution_count": 4,
      "outputs": []
    },
    {
      "cell_type": "code",
      "source": [
        "reply1 = tf.nn.softmax(aIn)\n",
        "reply2 = CustomSoftmax(aIn)\n",
        "reply3 = CustomSoftmax2(aIn)\n",
        "print(reply1)\n",
        "print(reply2)\n",
        "print(reply3)"
      ],
      "metadata": {
        "colab": {
          "base_uri": "https://localhost:8080/"
        },
        "id": "vMSp_fJzWpCS",
        "outputId": "1493a8ba-2f08-418f-e47e-6476689e7c58"
      },
      "execution_count": 5,
      "outputs": [
        {
          "output_type": "stream",
          "name": "stdout",
          "text": [
            "tf.Tensor([0.01165623 0.03168492 0.08612854 0.23412166 0.63640865], shape=(5,), dtype=float64)\n",
            "[0.01165623 0.03168492 0.08612854 0.23412166 0.63640865]\n",
            "[0.01165623 0.03168492 0.08612854 0.23412166 0.63640865]\n"
          ]
        }
      ]
    },
    {
      "cell_type": "code",
      "source": [],
      "metadata": {
        "id": "9RvcXnyBW5kC"
      },
      "execution_count": null,
      "outputs": []
    }
  ]
}